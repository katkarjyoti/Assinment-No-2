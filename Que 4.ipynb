{
 "cells": [
  {
   "cell_type": "code",
   "execution_count": 2,
   "metadata": {},
   "outputs": [
    {
     "name": "stdout",
     "output_type": "stream",
     "text": [
      "4\n",
      "up 2\n",
      "down 3\n",
      "left 5\n",
      "rigt 2\n",
      "12\n"
     ]
    }
   ],
   "source": [
    "import math\n",
    "(x,y)=(0,0)\n",
    "for i in range(int(input())):\n",
    "    a,b=input().split()\n",
    "    a,b=str(a),int(b)\n",
    "    if a==\"DOWN\":x,y=x,y-b\n",
    "    elif a==\"LEFT\":x,y=x-b,y\n",
    "    elif a==\"RIGHT\":x,y=x+b,y\n",
    "    else:x,y=x,y+b\n",
    "print(round(math.sqrt((x**2)+(y**2))))"
   ]
  },
  {
   "cell_type": "code",
   "execution_count": null,
   "metadata": {},
   "outputs": [],
   "source": []
  }
 ],
 "metadata": {
  "kernelspec": {
   "display_name": "Python 3",
   "language": "python",
   "name": "python3"
  },
  "language_info": {
   "codemirror_mode": {
    "name": "ipython",
    "version": 3
   },
   "file_extension": ".py",
   "mimetype": "text/x-python",
   "name": "python",
   "nbconvert_exporter": "python",
   "pygments_lexer": "ipython3",
   "version": "3.8.3"
  }
 },
 "nbformat": 4,
 "nbformat_minor": 4
}
